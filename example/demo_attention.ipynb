{
 "cells": [
  {
   "cell_type": "markdown",
   "metadata": {},
   "source": [
    "# Self-Attention Model Demonstration\n",
    "\n",
    "## Introduction\n",
    "\n",
    "This notebook demonstrates the usage of the NLarge library for data augmentation and text classification using a self-attention model. The primary goal is to showcase how self-attention mechanisms can be leveraged to improve the performance of Natural Language Processing (NLP) tasks, specifically sentiment analysis.\n",
    "\n",
    "The NLarge library provides various data augmentation techniques, including traditional methods like synonym replacement and random substitution, as well as advanced techniques using Large Language Models (LLMs). In this notebook, we will focus on using the self-attention mechanism to enhance the model's ability to capture contextual dependencies in the text.\n",
    "\n",
    "We will use the `TextClassifierAttentionNetwork` class, to classify text data. The model will be trained on augmented data to demonstrate the effectiveness of data augmentation in improving model performance.\n",
    "\n",
    "## Steps\n",
    "\n",
    "1. **Data Augmentation**: We will augment the training data using the NLarge library to increase the diversity and robustness of the dataset.\n",
    "2. **Model Initialization**: We will initialize the `TextClassifierMultiHeadAttentionNetwork` model with pretrained embeddings.\n",
    "3. **Training**: The model will be trained on the augmented dataset.\n",
    "4. **Evaluation**: We will evaluate the model's performance on the test dataset.\n"
   ]
  },
  {
   "cell_type": "code",
   "execution_count": 1,
   "metadata": {},
   "outputs": [],
   "source": [
    "import datasets\n",
    "from datasets import Dataset, Features, Value, concatenate_datasets\n",
    "from NLarge.dataset_concat import augment_data, MODE\n",
    "from NLarge.pipeline import TextClassificationPipeline\n",
    "from NLarge.model.Attention import TextClassifierAttentionNetwork"
   ]
  },
  {
   "cell_type": "code",
   "execution_count": 2,
   "metadata": {},
   "outputs": [
    {
     "data": {
      "text/plain": [
       "{'text': 'the rock is destined to be the 21st century\\'s new \" conan \" and that he\\'s going to make a splash even greater than arnold schwarzenegger , jean-claud van damme or steven segal .',\n",
       " 'label': 1}"
      ]
     },
     "execution_count": 2,
     "metadata": {},
     "output_type": "execute_result"
    }
   ],
   "source": [
    "original_train_data, original_test_data = datasets.load_dataset(\n",
    "    \"rotten_tomatoes\", split=[\"train\", \"test\"]\n",
    ")\n",
    "\n",
    "features = Features({\"text\": Value(\"string\"), \"label\": Value(\"int64\")})\n",
    "original_train_data = Dataset.from_dict(\n",
    "    {\n",
    "        \"text\": original_train_data[\"text\"],\n",
    "        \"label\": original_train_data[\"label\"],\n",
    "    },\n",
    "    features=features,\n",
    ")\n",
    "\n",
    "original_train_data[0]"
   ]
  },
  {
   "cell_type": "code",
   "execution_count": 3,
   "metadata": {},
   "outputs": [
    {
     "name": "stdout",
     "output_type": "stream",
     "text": [
      "Skipping augmentation for text due to error: Sample larger than population or is negative\n",
      "Skipping augmentation for text due to error: Sample larger than population or is negative\n",
      "Skipping augmentation for text due to error: Sample larger than population or is negative\n",
      "Skipping augmentation for text due to error: Sample larger than population or is negative\n",
      "Skipping augmentation for text due to error: Sample larger than population or is negative\n",
      "Skipping augmentation for text due to error: Sample larger than population or is negative\n",
      "Original train size: 8530\n",
      "Train size after 100% augmentation: 17052\n"
     ]
    }
   ],
   "source": [
    "# Augment and increase size by 100%\n",
    "percentages = {\n",
    "    MODE.RANDOM.SUBSTITUTE: 0.5,  # 50% of data for random augmentation\n",
    "    MODE.SYNONYM.WORDNET: 0.5,  # 50% of data for synonym augmentation\n",
    "}\n",
    "\n",
    "augmented_data_list = augment_data(original_train_data, percentages)\n",
    "\n",
    "\n",
    "# Convert augmented data into Datasets\n",
    "augmented_dataset = Dataset.from_dict(\n",
    "    {\n",
    "        \"text\": [item[\"text\"] for item in augmented_data_list],\n",
    "        \"label\": [item[\"label\"] for item in augmented_data_list],\n",
    "    },\n",
    "    features=features,\n",
    ")\n",
    "\n",
    "# Concatenate original and augmented datasets\n",
    "augmented_train_data = concatenate_datasets(\n",
    "    [original_train_data, augmented_dataset]\n",
    ")\n",
    "\n",
    "print(f\"Original train size: {len(original_train_data)}\")\n",
    "print(f\"Train size after 100% augmentation: {len(augmented_train_data)}\")"
   ]
  },
  {
   "cell_type": "markdown",
   "metadata": {},
   "source": [
    "We will now train the model on the augmented dataset using the `TextClassificationPipeline` class. The augmented dataset, which combines the original training data with the augmented data, will be used to initialize the pipeline. The model, `TextClassifierAttentionNetwork`, will be trained for 10 epochs on this dataset. This training process aims to leverage the increased diversity and robustness of the augmented data to improve the model's performance on the text classification task. The training process is initiated by calling the `train_model` method on the pipeline object, specifying the number of epochs."
   ]
  },
  {
   "cell_type": "code",
   "execution_count": 4,
   "metadata": {},
   "outputs": [
    {
     "data": {
      "application/vnd.jupyter.widget-view+json": {
       "model_id": "8aa8e5e60bc84eb1b32519bd5b2fe709",
       "version_major": 2,
       "version_minor": 0
      },
      "text/plain": [
       "Map:   0%|          | 0/17052 [00:00<?, ? examples/s]"
      ]
     },
     "metadata": {},
     "output_type": "display_data"
    },
    {
     "data": {
      "application/vnd.jupyter.widget-view+json": {
       "model_id": "0ac44b5c95bb47e78ad5018ee0cc92b3",
       "version_major": 2,
       "version_minor": 0
      },
      "text/plain": [
       "Map:   0%|          | 0/1066 [00:00<?, ? examples/s]"
      ]
     },
     "metadata": {},
     "output_type": "display_data"
    },
    {
     "data": {
      "application/vnd.jupyter.widget-view+json": {
       "model_id": "84ca13981f564f5fb5e3d079f3e27bdb",
       "version_major": 2,
       "version_minor": 0
      },
      "text/plain": [
       "Map:   0%|          | 0/13641 [00:00<?, ? examples/s]"
      ]
     },
     "metadata": {},
     "output_type": "display_data"
    },
    {
     "data": {
      "application/vnd.jupyter.widget-view+json": {
       "model_id": "7b9a2b87fe144b6898fe768bd465fee8",
       "version_major": 2,
       "version_minor": 0
      },
      "text/plain": [
       "Map:   0%|          | 0/3411 [00:00<?, ? examples/s]"
      ]
     },
     "metadata": {},
     "output_type": "display_data"
    },
    {
     "data": {
      "application/vnd.jupyter.widget-view+json": {
       "model_id": "0ef9b4c642d846fea9cfb72306b498b3",
       "version_major": 2,
       "version_minor": 0
      },
      "text/plain": [
       "Map:   0%|          | 0/1066 [00:00<?, ? examples/s]"
      ]
     },
     "metadata": {},
     "output_type": "display_data"
    },
    {
     "name": "stderr",
     "output_type": "stream",
     "text": [
      "training...: 100%|██████████| 27/27 [00:02<00:00, 11.14it/s]\n",
      "evaluating...: 100%|██████████| 7/7 [00:00<00:00, 31.67it/s]\n"
     ]
    },
    {
     "name": "stdout",
     "output_type": "stream",
     "text": [
      "Epoch: 1/10\n",
      "Train Loss: 0.673, Train Acc: 0.508\n",
      "Valid Loss: 0.636, Valid Acc: 0.567\n"
     ]
    },
    {
     "name": "stderr",
     "output_type": "stream",
     "text": [
      "training...: 100%|██████████| 27/27 [00:02<00:00, 11.43it/s]\n",
      "evaluating...: 100%|██████████| 7/7 [00:00<00:00, 31.68it/s]\n"
     ]
    },
    {
     "name": "stdout",
     "output_type": "stream",
     "text": [
      "Epoch: 2/10\n",
      "Train Loss: 0.580, Train Acc: 0.711\n",
      "Valid Loss: 0.546, Valid Acc: 0.753\n"
     ]
    },
    {
     "name": "stderr",
     "output_type": "stream",
     "text": [
      "training...: 100%|██████████| 27/27 [00:02<00:00, 11.57it/s]\n",
      "evaluating...: 100%|██████████| 7/7 [00:00<00:00, 30.70it/s]\n"
     ]
    },
    {
     "name": "stdout",
     "output_type": "stream",
     "text": [
      "Epoch: 3/10\n",
      "Train Loss: 0.510, Train Acc: 0.801\n",
      "Valid Loss: 0.515, Valid Acc: 0.794\n"
     ]
    },
    {
     "name": "stderr",
     "output_type": "stream",
     "text": [
      "training...: 100%|██████████| 27/27 [00:02<00:00, 11.43it/s]\n",
      "evaluating...: 100%|██████████| 7/7 [00:00<00:00, 30.88it/s]\n"
     ]
    },
    {
     "name": "stdout",
     "output_type": "stream",
     "text": [
      "Epoch: 4/10\n",
      "Train Loss: 0.473, Train Acc: 0.843\n",
      "Valid Loss: 0.494, Valid Acc: 0.816\n"
     ]
    },
    {
     "name": "stderr",
     "output_type": "stream",
     "text": [
      "training...: 100%|██████████| 27/27 [00:02<00:00, 11.28it/s]\n",
      "evaluating...: 100%|██████████| 7/7 [00:00<00:00, 31.84it/s]\n"
     ]
    },
    {
     "name": "stdout",
     "output_type": "stream",
     "text": [
      "Epoch: 5/10\n",
      "Train Loss: 0.446, Train Acc: 0.871\n",
      "Valid Loss: 0.481, Valid Acc: 0.829\n"
     ]
    },
    {
     "name": "stderr",
     "output_type": "stream",
     "text": [
      "training...: 100%|██████████| 27/27 [00:02<00:00, 11.67it/s]\n",
      "evaluating...: 100%|██████████| 7/7 [00:00<00:00, 31.97it/s]\n"
     ]
    },
    {
     "name": "stdout",
     "output_type": "stream",
     "text": [
      "Epoch: 6/10\n",
      "Train Loss: 0.426, Train Acc: 0.891\n",
      "Valid Loss: 0.472, Valid Acc: 0.838\n"
     ]
    },
    {
     "name": "stderr",
     "output_type": "stream",
     "text": [
      "training...: 100%|██████████| 27/27 [00:02<00:00, 11.82it/s]\n",
      "evaluating...: 100%|██████████| 7/7 [00:00<00:00, 30.60it/s]\n"
     ]
    },
    {
     "name": "stdout",
     "output_type": "stream",
     "text": [
      "Epoch: 7/10\n",
      "Train Loss: 0.411, Train Acc: 0.906\n",
      "Valid Loss: 0.465, Valid Acc: 0.844\n"
     ]
    },
    {
     "name": "stderr",
     "output_type": "stream",
     "text": [
      "training...: 100%|██████████| 27/27 [00:02<00:00, 10.20it/s]\n",
      "evaluating...: 100%|██████████| 7/7 [00:00<00:00, 30.56it/s]\n"
     ]
    },
    {
     "name": "stdout",
     "output_type": "stream",
     "text": [
      "Epoch: 8/10\n",
      "Train Loss: 0.400, Train Acc: 0.917\n",
      "Valid Loss: 0.460, Valid Acc: 0.853\n"
     ]
    },
    {
     "name": "stderr",
     "output_type": "stream",
     "text": [
      "training...: 100%|██████████| 27/27 [00:02<00:00, 11.10it/s]\n",
      "evaluating...: 100%|██████████| 7/7 [00:00<00:00, 24.88it/s]\n"
     ]
    },
    {
     "name": "stdout",
     "output_type": "stream",
     "text": [
      "Epoch: 9/10\n",
      "Train Loss: 0.391, Train Acc: 0.926\n",
      "Valid Loss: 0.457, Valid Acc: 0.852\n"
     ]
    },
    {
     "name": "stderr",
     "output_type": "stream",
     "text": [
      "training...: 100%|██████████| 27/27 [00:02<00:00, 11.22it/s]\n",
      "evaluating...: 100%|██████████| 7/7 [00:00<00:00, 30.42it/s]"
     ]
    },
    {
     "name": "stdout",
     "output_type": "stream",
     "text": [
      "Epoch: 10/10\n",
      "Train Loss: 0.385, Train Acc: 0.932\n",
      "Valid Loss: 0.454, Valid Acc: 0.854\n"
     ]
    },
    {
     "name": "stderr",
     "output_type": "stream",
     "text": [
      "\n"
     ]
    }
   ],
   "source": [
    "pipeline_augmented = TextClassificationPipeline(\n",
    "    augmented_data=augmented_train_data,\n",
    "    test_data=original_test_data,\n",
    "    max_length=128,\n",
    "    test_size=0.2,\n",
    "    model_class=TextClassifierAttentionNetwork,\n",
    ")\n",
    "pipeline_augmented.train_model(n_epochs=10)"
   ]
  },
  {
   "cell_type": "markdown",
   "metadata": {},
   "source": [
    "Plotting the training and validation loss and accuracy curves will help us understand the model's performance during training. We will use the `plot_metrics` function to visualize these curves."
   ]
  },
  {
   "cell_type": "code",
   "execution_count": null,
   "metadata": {},
   "outputs": [
    {
     "data": {
      "image/png": "[encoded data removed]",
      "text/plain": [
       "<Figure size 1000x600 with 1 Axes>"
      ]
     },
     "metadata": {},
     "output_type": "display_data"
    }
   ],
   "source": [
    "pipeline_augmented.plot_acc(title=\"50% Random Swap, 50% Synonym on Self-Attention\")"
   ]
  }
 ],
 "metadata": {
  "kernelspec": {
   "display_name": ".venv",
   "language": "python",
   "name": "python3"
  },
  "language_info": {
   "codemirror_mode": {
    "name": "ipython",
    "version": 3
   },
   "file_extension": ".py",
   "mimetype": "text/x-python",
   "name": "python",
   "nbconvert_exporter": "python",
   "pygments_lexer": "ipython3",
   "version": "3.12.7"
  }
 },
 "nbformat": 4,
 "nbformat_minor": 2
}
